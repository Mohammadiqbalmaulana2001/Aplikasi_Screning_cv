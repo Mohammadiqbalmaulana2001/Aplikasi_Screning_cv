{
 "cells": [
  {
   "cell_type": "code",
   "execution_count": 2,
   "metadata": {},
   "outputs": [
    {
     "name": "stdout",
     "output_type": "stream",
     "text": [
      "Predicted Category: Web Designing\n"
     ]
    }
   ],
   "source": [
    "import requests\n",
    "\n",
    "url = 'http://localhost:5000/predict_category'  \n",
    "\n",
    "file_path = 'mycv.pdf'  # Ganti dengan path file yang ingin diprediksi\n",
    "\n",
    "files = {'file': open(file_path, 'rb')}\n",
    "response = requests.post(url, files=files)\n",
    "\n",
    "if response.status_code == 200:\n",
    "    result = response.json()\n",
    "    print('Predicted Category:', result['predicted_category'])\n",
    "else:\n",
    "    print('Request failed with status code:', response.status_code)\n"
   ]
  },
  {
   "cell_type": "code",
   "execution_count": 3,
   "metadata": {},
   "outputs": [
    {
     "name": "stdout",
     "output_type": "stream",
     "text": [
      "Hasil Prediksi Skor CV: 61 %\n"
     ]
    }
   ],
   "source": [
    "import requests\n",
    "\n",
    "# URL endpoint\n",
    "url = 'http://127.0.0.1:5000/predict_score'  # Ganti dengan URL yang sesuai\n",
    "\n",
    "# Path file PDF yang ingin diuji\n",
    "file_path = 'mycv.pdf'  # Ganti dengan path file PDF yang ingin diuji\n",
    "\n",
    "# Buka file PDF\n",
    "files = {'file': open(file_path, 'rb')}\n",
    "\n",
    "# Kirim permintaan POST ke endpoint\n",
    "response = requests.post(url, files=files)\n",
    "\n",
    "# Tampilkan hasil prediksi\n",
    "if response.status_code == 200:\n",
    "    result = response.json()\n",
    "    print(\"Hasil Prediksi Skor CV:\", result['predicted_percentage'], '%')\n",
    "else:\n",
    "    print(\"Gagal melakukan prediksi. Kode status:\", response.status_code)\n"
   ]
  },
  {
   "cell_type": "code",
   "execution_count": 5,
   "metadata": {},
   "outputs": [
    {
     "name": "stdout",
     "output_type": "stream",
     "text": [
      "You: Halo\n",
      "minQ: Helo! Ini minQ. Lagi kepo tentang minQ ya?\n",
      "==============================\n",
      "You: Bagaimana cara kerja ninQ?\n",
      "minQ: Cara kerja Screning CV bekerja dengan memisahkan kandidat-kandidat yang memenuhi kriteria dari mereka yang tidak memenuhi kriteria dasar yang diperlukan untuk posisi yang sedang diisi.\n",
      "==============================\n",
      "You: Format file apa yang kompatibel untuk aplikasi ini?\n",
      "minQ: Format file yang kompatibel untuk aplikasi ini adalah format file Portable Document Format (PDF).\n",
      "==============================\n",
      "You: Terima kasih\n",
      "minQ: Dengan senang hati :)\n",
      "==============================\n"
     ]
    }
   ],
   "source": [
    "import requests\n",
    "import json\n",
    "\n",
    "url = 'http://localhost:5000/minQ'  # Ganti dengan URL yang sesuai\n",
    "\n",
    "def chat_with_bot(user_input):\n",
    "    data = {'user_input': user_input}\n",
    "    response = requests.post(url, json=data)\n",
    "    if response.status_code == 200:\n",
    "        return response.json()['response']\n",
    "    else:\n",
    "        return \"Error occurred\"\n",
    "\n",
    "# Uji chatbot dengan beberapa input\n",
    "user_inputs = [\n",
    "    \"Halo\",\n",
    "    \"Bagaimana cara kerja ninQ?\",\n",
    "    \"Format file apa yang kompatibel untuk aplikasi ini?\",\n",
    "    \"Terima kasih\"\n",
    "]\n",
    "\n",
    "for user_input in user_inputs:\n",
    "    bot_response = chat_with_bot(user_input)\n",
    "    print(f\"You: {user_input}\")\n",
    "    print(f\"minQ: {bot_response}\")\n",
    "    print(\"=\" * 30)\n"
   ]
  }
 ],
 "metadata": {
  "kernelspec": {
   "display_name": "env",
   "language": "python",
   "name": "python3"
  },
  "language_info": {
   "codemirror_mode": {
    "name": "ipython",
    "version": 3
   },
   "file_extension": ".py",
   "mimetype": "text/x-python",
   "name": "python",
   "nbconvert_exporter": "python",
   "pygments_lexer": "ipython3",
   "version": "3.10.0"
  }
 },
 "nbformat": 4,
 "nbformat_minor": 2
}
